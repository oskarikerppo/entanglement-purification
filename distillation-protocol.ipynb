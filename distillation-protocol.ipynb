{
 "cells": [
  {
   "cell_type": "code",
   "execution_count": 1,
   "metadata": {},
   "outputs": [],
   "source": [
    "import numpy as np\n",
    "from numpy import pi\n",
    "np.set_printoptions(threshold=np.inf)\n",
    "np.set_printoptions(linewidth=np.inf)"
   ]
  },
  {
   "cell_type": "code",
   "execution_count": 2,
   "metadata": {},
   "outputs": [],
   "source": [
    "from qiskit import *\n",
    "import qiskit"
   ]
  },
  {
   "cell_type": "code",
   "execution_count": 3,
   "metadata": {},
   "outputs": [
    {
     "name": "stdout",
     "output_type": "stream",
     "text": [
      "[[0.5 0.  0.  0.5]\n",
      " [0.  0.  0.  0. ]\n",
      " [0.  0.  0.  0. ]\n",
      " [0.5 0.  0.  0.5]]\n",
      "[[ 0.5  0.   0.  -0.5]\n",
      " [ 0.   0.   0.  -0. ]\n",
      " [ 0.   0.   0.  -0. ]\n",
      " [-0.5 -0.  -0.   0.5]]\n",
      "[[0.  0.  0.  0. ]\n",
      " [0.  0.5 0.5 0. ]\n",
      " [0.  0.5 0.5 0. ]\n",
      " [0.  0.  0.  0. ]]\n",
      "[[ 0.   0.  -0.   0. ]\n",
      " [ 0.   0.5 -0.5  0. ]\n",
      " [-0.  -0.5  0.5 -0. ]\n",
      " [ 0.   0.  -0.   0. ]]\n"
     ]
    }
   ],
   "source": [
    "phi_plus = np.array([1, 0, 0, 1])/np.sqrt(2)   # | Phi^+ >\n",
    "phi_minus = np.array([1, 0, 0, -1])/np.sqrt(2) # | Phi^- >\n",
    "psi_plus = np.array([0, 1, 1, 0])/np.sqrt(2)   # | Psi^+ >\n",
    "psi_minus = np.array([0, 1, -1, 0])/np.sqrt(2) # | Psi^- >\n",
    "\n",
    "print(np.outer(phi_plus, phi_plus))\n",
    "print(np.outer(phi_minus, phi_minus))\n",
    "print(np.outer(psi_plus, psi_plus))\n",
    "print(np.outer(psi_minus, psi_minus))\n",
    "\n",
    "p_x = np.array([[0, 1], [1, 0]])\n",
    "p_y = np.array([[0, -1j], [1j, 0]])\n",
    "p_z = np.array([[1, 0], [0, -1]])\n",
    "\n",
    "p_x_2 = qiskit.circuit.library.RXGate(np.pi/2).to_matrix()\n",
    "p_y_2 = qiskit.circuit.library.RYGate(np.pi/2).to_matrix()\n",
    "p_z_2 = qiskit.circuit.library.RZGate(np.pi/2).to_matrix()"
   ]
  },
  {
   "cell_type": "markdown",
   "metadata": {},
   "source": [
    "## Random mixed state for the initial state, distill entanglement from this state"
   ]
  },
  {
   "cell_type": "code",
   "execution_count": 4,
   "metadata": {},
   "outputs": [
    {
     "name": "stdout",
     "output_type": "stream",
     "text": [
      "[[ 0.22371416-6.94257256e-02j -0.49814694-2.61262116e-01j  0.00757222-2.18573891e-01j -0.76216258+3.06337988e-04j]\n",
      " [ 0.03006978+2.48618172e-01j -0.41190676-7.77327718e-02j -0.01342971+8.71941928e-01j  0.03185252-9.87830662e-03j]\n",
      " [-0.90651181+7.25636266e-05j  0.05423868-1.06674297e-02j  0.2643879 +7.17449630e-02j -0.31582494+1.96726551e-02j]\n",
      " [ 0.1030922 +2.23663111e-01j  0.35765916+6.13927089e-01j -0.29836915+1.66230514e-01j -0.48507824-2.87337155e-01j]]\n",
      "------------------------------------\n",
      "------------------------------------\n",
      "------------------------------------\n",
      "------------------------------------\n",
      "[[ 0.05486796+0.j         -0.01053346-0.05770702j -0.20280457+0.06291901j  0.00753521-0.05719386j]\n",
      " [-0.01053346+0.05770702j  0.06271519+0.j         -0.02724057-0.22537749j  0.05870667+0.01890509j]\n",
      " [-0.20280457-0.06291901j -0.02724057+0.22537749j  0.82176367+0.j         -0.09343806+0.20276073j]\n",
      " [ 0.00753521+0.05719386j  0.05870667-0.01890509j -0.09343806-0.20276073j  0.06065319+0.j        ]]\n",
      "(0.4694799933722479+0j)\n"
     ]
    }
   ],
   "source": [
    "rand_unitary = qiskit.quantum_info.operators.random.random_unitary([2, 2])\n",
    "print(rand_unitary.data)\n",
    "\n",
    "print(\"------------------------------------\")\n",
    "\n",
    "conj_unitary = np.conj(rand_unitary.data).T\n",
    "# print(conj_unitary)\n",
    "\n",
    "\n",
    "print(\"------------------------------------\")\n",
    "\n",
    "# print(np.isclose(rand_unitary.data @ conj_unitary, np.eye(4)))\n",
    "# print(np.isclose(conj_unitary @ rand_unitary.data, np.eye(4)))\n",
    "\n",
    "print(\"------------------------------------\")\n",
    "\n",
    "\n",
    "init_state = np.outer(np.array([1, 0, 0, 0]), np.array([1, 0, 0, 0]))\n",
    "#print(init_state)\n",
    "\n",
    "print(\"------------------------------------\")\n",
    "\n",
    "\n",
    "print(rand_unitary.data @ init_state @ conj_unitary)\n",
    "\n",
    "# Fidelity\n",
    "\n",
    "print(np.trace(rand_unitary.data @ init_state @ conj_unitary @ np.outer(psi_minus, psi_minus)))"
   ]
  },
  {
   "cell_type": "code",
   "execution_count": 5,
   "metadata": {},
   "outputs": [
    {
     "name": "stdout",
     "output_type": "stream",
     "text": [
      "[[0.70710678+0.j         0.        -0.70710678j]\n",
      " [0.        -0.70710678j 0.70710678+0.j        ]]\n",
      "[[-0.+2.22044605e-16j  1.+0.00000000e+00j]\n",
      " [ 1.+0.00000000e+00j -0.+2.22044605e-16j]]\n",
      "[[0.+0.j 1.+0.j]\n",
      " [1.+0.j 0.+0.j]]\n"
     ]
    }
   ],
   "source": [
    "print(qiskit.circuit.library.RXGate(np.pi/2).to_matrix())\n",
    "xgate = qiskit.circuit.library.RXGate(np.pi/2).to_matrix()\n",
    "print(xgate @ xgate/-1j)\n",
    "print(qiskit.circuit.library.XGate().to_matrix())\n"
   ]
  },
  {
   "cell_type": "markdown",
   "metadata": {},
   "source": [
    "## Depolarize to Werner form"
   ]
  },
  {
   "cell_type": "code",
   "execution_count": 6,
   "metadata": {},
   "outputs": [
    {
     "name": "stdout",
     "output_type": "stream",
     "text": [
      "[[0 0 0 1]\n",
      " [0 0 1 0]\n",
      " [0 1 0 0]\n",
      " [1 0 0 0]]\n",
      "[[ 0.+0.j  0.-0.j  0.-0.j -1.+0.j]\n",
      " [ 0.+0.j  0.+0.j  1.-0.j  0.-0.j]\n",
      " [ 0.+0.j  1.-0.j  0.+0.j  0.-0.j]\n",
      " [-1.+0.j  0.+0.j  0.+0.j  0.+0.j]]\n",
      "[[ 1  0  0  0]\n",
      " [ 0 -1  0  0]\n",
      " [ 0  0 -1  0]\n",
      " [ 0  0  0  1]]\n",
      "[[ 0.05776057+0.j  0.        +0.j  0.        +0.j  0.00753521+0.j]\n",
      " [ 0.        +0.j  0.44223943+0.j -0.02724057+0.j  0.        +0.j]\n",
      " [ 0.        +0.j -0.02724057+0.j  0.44223943+0.j  0.        +0.j]\n",
      " [ 0.00753521+0.j  0.        +0.j  0.        +0.j  0.05776057+0.j]]\n",
      "(0.4694799933722479+0j)\n",
      "[[ 0.05776057+0.j  0.        +0.j  0.        +0.j  0.00753521+0.j]\n",
      " [ 0.        +0.j  0.44223943+0.j -0.02724057+0.j  0.        +0.j]\n",
      " [ 0.        +0.j -0.02724057+0.j  0.44223943+0.j  0.        +0.j]\n",
      " [ 0.00753521+0.j  0.        +0.j  0.        +0.j  0.05776057+0.j]]\n"
     ]
    }
   ],
   "source": [
    "M_state = rand_unitary.data @ init_state @ conj_unitary\n",
    "\n",
    "B_x = np.kron(p_x, p_x)\n",
    "print(B_x)\n",
    "B_y = np.kron(p_y, p_y)\n",
    "print(B_y)\n",
    "B_z = np.kron(p_z, p_z)\n",
    "print(B_z)\n",
    "\n",
    "MF_state = 0.25*M_state + 0.25*(B_x @ M_state @ B_x + B_y @ M_state @ B_y + B_z @ M_state @ B_z)\n",
    "print(MF_state)\n",
    "\n",
    "psi_minus_density = np.outer(psi_minus, psi_minus)\n",
    "psi_plus_density = np.outer(psi_plus, psi_plus)\n",
    "phi_minus_density = np.outer(phi_minus, phi_minus)\n",
    "phi_plus_density = np.outer(phi_plus, phi_plus)\n",
    "\n",
    "print(np.trace(psi_minus_density @ MF_state))\n",
    "\n",
    "print(np.trace(psi_minus_density @ MF_state)*psi_minus_density + np.trace(psi_plus_density @ MF_state)*psi_plus_density + \n",
    "      np.trace(phi_minus_density @ MF_state)*phi_minus_density + np.trace(phi_plus_density @ MF_state)*phi_plus_density)"
   ]
  },
  {
   "cell_type": "code",
   "execution_count": 7,
   "metadata": {},
   "outputs": [
    {
     "name": "stdout",
     "output_type": "stream",
     "text": [
      "[[0.  0.  0.  0. ]\n",
      " [0.  0.5 0.5 0. ]\n",
      " [0.  0.5 0.5 0. ]\n",
      " [0.  0.  0.  0. ]]\n",
      "[[5.00000000e-01+0.00000000e+00j 0.00000000e+00-1.11022302e-16j 0.00000000e+00-1.11022302e-16j 5.00000000e-01+0.00000000e+00j]\n",
      " [0.00000000e+00+1.11022302e-16j 1.84889275e-32+0.00000000e+00j 2.46519033e-32+0.00000000e+00j 0.00000000e+00+1.11022302e-16j]\n",
      " [0.00000000e+00+1.11022302e-16j 1.84889275e-32+0.00000000e+00j 2.46519033e-32+0.00000000e+00j 0.00000000e+00+1.11022302e-16j]\n",
      " [5.00000000e-01+0.00000000e+00j 0.00000000e+00-1.11022302e-16j 0.00000000e+00-1.11022302e-16j 5.00000000e-01+0.00000000e+00j]]\n",
      "----------------------------------------\n",
      "[[ 0.5  0.   0.  -0.5]\n",
      " [ 0.   0.   0.  -0. ]\n",
      " [ 0.   0.   0.  -0. ]\n",
      " [-0.5 -0.  -0.   0.5]]\n",
      "[[ 0.5+0.j  0. +0.j  0. +0.j -0.5+0.j]\n",
      " [ 0. +0.j  0. +0.j  0. +0.j  0. +0.j]\n",
      " [ 0. +0.j  0. +0.j  0. +0.j  0. +0.j]\n",
      " [-0.5+0.j  0. +0.j  0. +0.j  0.5+0.j]]\n",
      "----------------------------------------\n",
      "[[0.5 0.  0.  0.5]\n",
      " [0.  0.  0.  0. ]\n",
      " [0.  0.  0.  0. ]\n",
      " [0.5 0.  0.  0.5]]\n",
      "[[1.84889275e-32+0.00000000e+00j 0.00000000e+00+1.11022302e-16j 0.00000000e+00+1.11022302e-16j 2.46519033e-32+0.00000000e+00j]\n",
      " [0.00000000e+00-1.11022302e-16j 5.00000000e-01+0.00000000e+00j 5.00000000e-01+0.00000000e+00j 0.00000000e+00-1.11022302e-16j]\n",
      " [0.00000000e+00-1.11022302e-16j 5.00000000e-01+0.00000000e+00j 5.00000000e-01+0.00000000e+00j 0.00000000e+00-1.11022302e-16j]\n",
      " [1.84889275e-32+0.00000000e+00j 0.00000000e+00+1.11022302e-16j 0.00000000e+00+1.11022302e-16j 2.46519033e-32+0.00000000e+00j]]\n",
      "----------------------------------------\n"
     ]
    }
   ],
   "source": [
    "B_x = np.kron(p_x_2, p_x_2)\n",
    "#print(B_x)\n",
    "B_y = np.kron(p_y_2, p_y_2)\n",
    "#print(B_y)\n",
    "B_z = np.kron(p_z_2, p_z_2)\n",
    "#print(B_z)\n",
    "\n",
    "print(psi_plus_density)\n",
    "print(B_x @ psi_plus_density @ np.conj(B_x).T)\n",
    "print(\"----------------------------------------\")\n",
    "\n",
    "print(phi_minus_density)\n",
    "print(B_x @ phi_minus_density @ np.conj(B_x).T)\n",
    "print(\"----------------------------------------\")\n",
    "\n",
    "print(phi_plus_density)\n",
    "print(B_x @ phi_plus_density @ np.conj(B_x).T)\n",
    "print(\"----------------------------------------\")\n",
    "\n"
   ]
  },
  {
   "cell_type": "code",
   "execution_count": 8,
   "metadata": {},
   "outputs": [
    {
     "name": "stdout",
     "output_type": "stream",
     "text": [
      "[[0.  0.  0.  0. ]\n",
      " [0.  0.5 0.5 0. ]\n",
      " [0.  0.5 0.5 0. ]\n",
      " [0.  0.  0.  0. ]]\n",
      "[[ 5.00000000e-01+0.j -1.11022302e-16+0.j -1.11022302e-16+0.j -5.00000000e-01+0.j]\n",
      " [-1.11022302e-16+0.j  1.84889275e-32+0.j  2.46519033e-32+0.j  1.11022302e-16+0.j]\n",
      " [-1.11022302e-16+0.j  1.84889275e-32+0.j  2.46519033e-32+0.j  1.11022302e-16+0.j]\n",
      " [-5.00000000e-01+0.j  1.11022302e-16+0.j  1.11022302e-16+0.j  5.00000000e-01+0.j]]\n",
      "----------------------------------------\n",
      "[[ 0.5  0.   0.  -0.5]\n",
      " [ 0.   0.   0.  -0. ]\n",
      " [ 0.   0.   0.  -0. ]\n",
      " [-0.5 -0.  -0.   0.5]]\n",
      "[[ 1.84889275e-32+0.j  1.11022302e-16+0.j  1.11022302e-16+0.j -2.46519033e-32+0.j]\n",
      " [ 1.11022302e-16+0.j  5.00000000e-01+0.j  5.00000000e-01+0.j -1.11022302e-16+0.j]\n",
      " [ 1.11022302e-16+0.j  5.00000000e-01+0.j  5.00000000e-01+0.j -1.11022302e-16+0.j]\n",
      " [-1.84889275e-32+0.j -1.11022302e-16+0.j -1.11022302e-16+0.j  2.46519033e-32+0.j]]\n",
      "----------------------------------------\n",
      "[[0.5 0.  0.  0.5]\n",
      " [0.  0.  0.  0. ]\n",
      " [0.  0.  0.  0. ]\n",
      " [0.5 0.  0.  0.5]]\n",
      "[[0.5+0.j 0. +0.j 0. +0.j 0.5+0.j]\n",
      " [0. +0.j 0. +0.j 0. +0.j 0. +0.j]\n",
      " [0. +0.j 0. +0.j 0. +0.j 0. +0.j]\n",
      " [0.5+0.j 0. +0.j 0. +0.j 0.5+0.j]]\n",
      "----------------------------------------\n"
     ]
    }
   ],
   "source": [
    "print(psi_plus_density)\n",
    "print(B_y @ psi_plus_density @ np.conj(B_y).T)\n",
    "print(\"----------------------------------------\")\n",
    "\n",
    "print(phi_minus_density)\n",
    "print(B_y @ phi_minus_density @ np.conj(B_y).T)\n",
    "print(\"----------------------------------------\")\n",
    "\n",
    "print(phi_plus_density)\n",
    "print(B_y @ phi_plus_density @ np.conj(B_y).T)\n",
    "print(\"----------------------------------------\")"
   ]
  },
  {
   "cell_type": "code",
   "execution_count": 9,
   "metadata": {},
   "outputs": [
    {
     "name": "stdout",
     "output_type": "stream",
     "text": [
      "[[0.  0.  0.  0. ]\n",
      " [0.  0.5 0.5 0. ]\n",
      " [0.  0.5 0.5 0. ]\n",
      " [0.  0.  0.  0. ]]\n",
      "[[0. +0.00000000e+00j 0. +0.00000000e+00j 0. +0.00000000e+00j 0. +0.00000000e+00j]\n",
      " [0. +0.00000000e+00j 0.5+0.00000000e+00j 0.5-1.01465364e-17j 0. +0.00000000e+00j]\n",
      " [0. +0.00000000e+00j 0.5+1.01465364e-17j 0.5+0.00000000e+00j 0. +0.00000000e+00j]\n",
      " [0. +0.00000000e+00j 0. +0.00000000e+00j 0. +0.00000000e+00j 0. +0.00000000e+00j]]\n",
      "----------------------------------------\n",
      "[[ 0.5  0.   0.  -0.5]\n",
      " [ 0.   0.   0.  -0. ]\n",
      " [ 0.   0.   0.  -0. ]\n",
      " [-0.5 -0.  -0.   0.5]]\n",
      "[[0.5+0.00000000e+00j 0. +0.00000000e+00j 0. +0.00000000e+00j 0.5+1.79380389e-16j]\n",
      " [0. +0.00000000e+00j 0. +0.00000000e+00j 0. +0.00000000e+00j 0. +0.00000000e+00j]\n",
      " [0. +0.00000000e+00j 0. +0.00000000e+00j 0. +0.00000000e+00j 0. +0.00000000e+00j]\n",
      " [0.5-1.79380389e-16j 0. +0.00000000e+00j 0. +0.00000000e+00j 0.5+0.00000000e+00j]]\n",
      "----------------------------------------\n",
      "[[0.5 0.  0.  0.5]\n",
      " [0.  0.  0.  0. ]\n",
      " [0.  0.  0.  0. ]\n",
      " [0.5 0.  0.  0.5]]\n",
      "[[ 0.5+0.00000000e+00j  0. +0.00000000e+00j  0. +0.00000000e+00j -0.5-1.79380389e-16j]\n",
      " [ 0. +0.00000000e+00j  0. +0.00000000e+00j  0. +0.00000000e+00j  0. +0.00000000e+00j]\n",
      " [ 0. +0.00000000e+00j  0. +0.00000000e+00j  0. +0.00000000e+00j  0. +0.00000000e+00j]\n",
      " [-0.5+1.79380389e-16j  0. +0.00000000e+00j  0. +0.00000000e+00j  0.5+0.00000000e+00j]]\n",
      "----------------------------------------\n"
     ]
    }
   ],
   "source": [
    "print(psi_plus_density)\n",
    "print(B_z @ psi_plus_density @ np.conj(B_z).T)\n",
    "print(\"----------------------------------------\")\n",
    "\n",
    "print(phi_minus_density)\n",
    "print(B_z @ phi_minus_density @ np.conj(B_z).T)\n",
    "print(\"----------------------------------------\")\n",
    "\n",
    "print(phi_plus_density)\n",
    "print(B_z @ phi_plus_density @ np.conj(B_z).T)\n",
    "print(\"----------------------------------------\")"
   ]
  },
  {
   "cell_type": "code",
   "execution_count": 10,
   "metadata": {},
   "outputs": [
    {
     "name": "stdout",
     "output_type": "stream",
     "text": [
      "[-0.08930957-0.0047309j   0.08014025-0.04209918j -0.13706423+0.02774492j  0.06501981-0.02859693j]\n",
      "[-0.02865636+0.07232729j  0.13428745-0.08111219j -0.15834992-0.11268875j  0.06739328+0.0638714j ]\n",
      "[-0.00372299+0.02154537j -0.13251093+0.11268875j  0.51381169+0.08111219j -0.09317969-0.0334624j ]\n",
      "[-0.053717  +0.02859693j  0.05333075+0.10168576j  0.06175898-0.17950368j -0.08930957+0.0047309j ]\n",
      "(0.46947999337224783-1.3877787807814457e-17j)\n",
      "[[-0.08930957+1.47451495e-17j  0.        +0.00000000e+00j  0.        +0.00000000e+00j  0.00565141+8.67361738e-19j]\n",
      " [ 0.        +0.00000000e+00j  0.32404957+5.20417043e-18j -0.14543042+1.90819582e-17j  0.        +0.00000000e+00j]\n",
      " [ 0.        +0.00000000e+00j -0.14543042+1.90819582e-17j  0.32404957+5.20417043e-18j  0.        +0.00000000e+00j]\n",
      " [ 0.00565141+8.67361738e-19j  0.        +0.00000000e+00j  0.        +0.00000000e+00j -0.08930957+1.47451495e-17j]]\n"
     ]
    }
   ],
   "source": [
    "M_state = rand_unitary.data @ init_state @ conj_unitary\n",
    "\n",
    "B_x = np.kron(p_x_2, p_x_2)\n",
    "#print(B_x)\n",
    "B_y = np.kron(p_y_2, p_y_2)\n",
    "#print(B_y)\n",
    "B_z = np.kron(p_z_2, p_z_2)\n",
    "#print(B_z)\n",
    "\n",
    "MF_state = 0.25*M_state + 0.25*(B_x @ M_state @ B_x + B_y @ M_state @ B_y + B_z @ M_state @ B_z)\n",
    "for row in MF_state:\n",
    "    print(row)\n",
    "    \n",
    "psi_minus_density = np.outer(psi_minus, psi_minus)\n",
    "psi_plus_density = np.outer(psi_plus, psi_plus)\n",
    "phi_minus_density = np.outer(phi_minus, phi_minus)\n",
    "phi_plus_density = np.outer(phi_plus, phi_plus)\n",
    "\n",
    "print(np.trace(psi_minus_density @ MF_state))\n",
    "\n",
    "print(np.trace(psi_minus_density @ MF_state)*psi_minus_density + np.trace(psi_plus_density @ MF_state)*psi_plus_density + \n",
    "      np.trace(phi_minus_density @ MF_state)*phi_minus_density + np.trace(phi_plus_density @ MF_state)*phi_plus_density)"
   ]
  },
  {
   "cell_type": "code",
   "execution_count": 157,
   "metadata": {},
   "outputs": [
    {
     "name": "stdout",
     "output_type": "stream",
     "text": [
      "[[ 0  0  1  0]\n",
      " [ 0  0  0 -1]\n",
      " [ 1  0  0  0]\n",
      " [ 0 -1  0  0]]\n",
      "[[ 0  1  0  0]\n",
      " [ 1  0  0  0]\n",
      " [ 0  0  0 -1]\n",
      " [ 0  0 -1  0]]\n",
      "[[ 0  0  0 -1]\n",
      " [ 0  0  1  0]\n",
      " [ 0  1  0  0]\n",
      " [-1  0  0  0]]\n",
      "[ 0.25      +0.0000000e+00j  0.086575  +0.0000000e+00j -0.02064807-6.9388939e-18j  0.16563663+0.0000000e+00j]\n",
      "[ 0.086575  +0.0000000e+00j  0.25      +0.0000000e+00j -0.16563663+0.0000000e+00j  0.02064807-6.9388939e-18j]\n",
      "[-0.02064807+6.9388939e-18j -0.16563663+0.0000000e+00j  0.25      +0.0000000e+00j -0.086575  +0.0000000e+00j]\n",
      "[ 0.16563663+0.0000000e+00j  0.02064807+6.9388939e-18j -0.086575  +0.0000000e+00j  0.25      +0.0000000e+00j]\n",
      "(0.4156366318081718+0j)\n",
      "[[ 0.25      +0.j  0.        +0.j  0.        +0.j  0.16563663+0.j]\n",
      " [ 0.        +0.j  0.25      +0.j -0.16563663+0.j  0.        +0.j]\n",
      " [ 0.        +0.j -0.16563663+0.j  0.25      +0.j  0.        +0.j]\n",
      " [ 0.16563663+0.j  0.        +0.j  0.        +0.j  0.25      +0.j]]\n"
     ]
    }
   ],
   "source": [
    "K1 = np.kron(p_x, p_z)\n",
    "print(K1)\n",
    "K2 = np.kron(p_z, p_x)\n",
    "print(K2)\n",
    "K3 = np.kron(p_x @ p_z, p_z @ p_x)\n",
    "print(K3)\n",
    "\n",
    "MF_state = 0.25*M_state + 0.25*(K1 @ M_state @ K1.conj().T + K2 @ M_state @ K2.conj().T + K3 @ M_state @ K3.conj().T)\n",
    "for row in MF_state:\n",
    "    print(row)\n",
    "    \n",
    "psi_minus_density = np.outer(psi_minus, psi_minus)\n",
    "psi_plus_density = np.outer(psi_plus, psi_plus)\n",
    "phi_minus_density = np.outer(phi_minus, phi_minus)\n",
    "phi_plus_density = np.outer(phi_plus, phi_plus)\n",
    "\n",
    "print(np.trace(psi_minus_density @ MF_state))\n",
    "\n",
    "print(np.trace(psi_minus_density @ MF_state)*psi_minus_density + np.trace(psi_plus_density @ MF_state)*psi_plus_density + \n",
    "      np.trace(phi_minus_density @ MF_state)*phi_minus_density + np.trace(phi_plus_density @ MF_state)*phi_plus_density)"
   ]
  },
  {
   "cell_type": "code",
   "execution_count": 33,
   "metadata": {},
   "outputs": [
    {
     "name": "stdout",
     "output_type": "stream",
     "text": [
      "[[ 0.5+0.j   0. -0.5j  0. -0.5j -0.5-0.j ]\n",
      " [ 0. -0.5j  0.5+0.j  -0.5-0.j   0. -0.5j]\n",
      " [ 0. -0.5j -0.5-0.j   0.5+0.j   0. -0.5j]\n",
      " [-0.5-0.j   0. -0.5j  0. -0.5j  0.5+0.j ]]\n",
      "[[ 0.5+0.j -0.5+0.j -0.5+0.j  0.5-0.j]\n",
      " [ 0.5+0.j  0.5+0.j -0.5+0.j -0.5+0.j]\n",
      " [ 0.5+0.j -0.5+0.j  0.5+0.j -0.5+0.j]\n",
      " [ 0.5+0.j  0.5+0.j  0.5+0.j  0.5+0.j]]\n",
      "[ 0.1674318 +0.j          0.01420363+0.01494441j -0.02260377+0.08832782j -0.0018838 -0.01961479j]\n",
      "[ 0.01420363-0.01494441j  0.23636787-0.j         -0.17608985-0.00719767j -0.11747278+0.01721839j]\n",
      "[-0.02260377-0.08832782j -0.17608985+0.00719767j  0.35041241+0.j          0.02636226+0.02116671j]\n",
      "[-0.0018838 +0.01961479j -0.11747278-0.01721839j  0.02636226-0.02116671j  0.24578791+0.j        ]\n"
     ]
    }
   ],
   "source": [
    "K0 = np.eye(4)\n",
    "\n",
    "pxs = qiskit.circuit.library.RXGate(np.pi/2).to_matrix()\n",
    "pys = qiskit.circuit.library.RYGate(np.pi/2).to_matrix()\n",
    "pzs = qiskit.circuit.library.RZGate(np.pi/2).to_matrix()\n",
    "\n",
    "K0 = np.eye(4)\n",
    "K1 = np.kron(pxs, pxs)\n",
    "print(K1.round(15))\n",
    "\n",
    "K2 = np.kron(pys, pys)\n",
    "print(K2.round(15))\n",
    "\n",
    "K3 = np.kron(pzs, pzs)\n",
    "K4 = np.kron(pxs @ pys, pxs @ pys)\n",
    "K5 = np.kron(pys @ pzs, pys @ pzs)\n",
    "K6 = np.kron(pzs @ pxs, pzs @ pxs)\n",
    "K7 = np.kron(pys @ pxs, pys @ pxs)\n",
    "K8 = np.kron(pxs @ pys @ pxs @ pys, pxs @ pys @ pxs @ pys)\n",
    "K9 = np.kron(pys @ pzs @ pys @ pzs, pys @ pzs @ pys @ pzs)\n",
    "K10 = np.kron(pzs @ pxs @ pzs @ pxs, pzs @ pxs @ pzs @ pxs)\n",
    "K11 = np.kron(pys @ pxs @ pys @ pxs, pys @ pxs @ pys @ pxs)\n",
    "\n",
    "K_list = [K0, K1, K2, K3, K4, K5, K6, K7, K8, K9, K10, K11]\n",
    "\n",
    "MF_state = np.zeros((4,4), dtype=complex)\n",
    "for operator in K_list:\n",
    "    MF_state +=  1/12 * operator @ M_state @ operator.conj().T\n",
    "for row in MF_state.round(15):\n",
    "    print(row)\n"
   ]
  },
  {
   "cell_type": "markdown",
   "metadata": {},
   "source": [
    "\"\"\"elif rot_idx == 1:\n",
    "    circuit.rx(pi/2, qubit)\n",
    "    circuit.rx(pi/2, qubit)\n",
    "    \n",
    "elif rot_idx == 2:\n",
    "    circuit.ry(pi/2, qubit)\n",
    "    circuit.ry(pi/2, qubit)\n",
    "    \n",
    "elif rot_idx == 3:\n",
    "    circuit.rz(pi/2, qubit)\n",
    "    circuit.rz(pi/2, qubit)\n",
    "    \n",
    "elif rot_idx == 4:\n",
    "    circuit.rx(pi/2, qubit)\n",
    "    circuit.ry(pi/2, qubit)\n",
    "    \n",
    "elif rot_idx == 5:\n",
    "    circuit.ry(pi/2, qubit)\n",
    "    circuit.rz(pi/2, qubit)\n",
    "    \n",
    "elif rot_idx == 6:\n",
    "    circuit.rz(pi/2, qubit)\n",
    "    circuit.rx(pi/2, qubit)\n",
    "    \n",
    "elif rot_idx == 7:\n",
    "    circuit.ry(pi/2, qubit)\n",
    "    circuit.rx(pi/2, qubit)\n",
    "    \n",
    "elif rot_idx == 8:\n",
    "    circuit.rx(pi/2, qubit)\n",
    "    circuit.ry(pi/2, qubit)\n",
    "    circuit.rx(pi/2, qubit)\n",
    "    circuit.ry(pi/2, qubit)\n",
    "    \n",
    "elif rot_idx == 9:\n",
    "    circuit.ry(pi/2, qubit)\n",
    "    circuit.rz(pi/2, qubit)\n",
    "    circuit.ry(pi/2, qubit)\n",
    "    circuit.rz(pi/2, qubit)\n",
    "    \n",
    "elif rot_idx == 10:\n",
    "    circuit.rz(pi/2, qubit)\n",
    "    circuit.rx(pi/2, qubit)\n",
    "    circuit.rz(pi/2, qubit)\n",
    "    circuit.rx(pi/2, qubit)\n",
    "    \n",
    "elif rot_idx == 11:\n",
    "    circuit.ry(pi/2, qubit)\n",
    "    circuit.rx(pi/2, qubit)\n",
    "    circuit.ry(pi/2, qubit)\n",
    "    circuit.rx(pi/2, qubit)\"\"\""
   ]
  },
  {
   "cell_type": "code",
   "execution_count": 18,
   "metadata": {},
   "outputs": [],
   "source": [
    "# Create a parameter theta\n",
    "#theta = Parameter('theta')\n",
    "theta = pi/2\n"
   ]
  },
  {
   "cell_type": "markdown",
   "metadata": {},
   "source": [
    "# Define circuit"
   ]
  },
  {
   "cell_type": "code",
   "execution_count": 14,
   "metadata": {},
   "outputs": [
    {
     "data": {
      "text/plain": [
       "<qiskit.circuit.instructionset.InstructionSet at 0x712b50db75e0>"
      ]
     },
     "execution_count": 14,
     "metadata": {},
     "output_type": "execute_result"
    }
   ],
   "source": [
    "qc = QuantumCircuit(4)\n",
    "\n",
    "qc.x(1)\n",
    "qc.x(3)\n",
    "\n",
    "qc.u(theta, pi, 0, 0)\n",
    "qc.u(theta, pi, 0, 2)\n",
    "\n",
    "qc.cx(0, 1)\n",
    "qc.cx(2, 3)\n"
   ]
  },
  {
   "cell_type": "code",
   "execution_count": 15,
   "metadata": {},
   "outputs": [
    {
     "data": {
      "image/png": "[encoded data removed]",
      "text/plain": [
       "<Figure size 287.496x367.889 with 1 Axes>"
      ]
     },
     "execution_count": 15,
     "metadata": {},
     "output_type": "execute_result"
    }
   ],
   "source": [
    "qc.draw(output='mpl')"
   ]
  }
 ],
 "metadata": {
  "kernelspec": {
   "display_name": ".venv",
   "language": "python",
   "name": "python3"
  },
  "language_info": {
   "codemirror_mode": {
    "name": "ipython",
    "version": 3
   },
   "file_extension": ".py",
   "mimetype": "text/x-python",
   "name": "python",
   "nbconvert_exporter": "python",
   "pygments_lexer": "ipython3",
   "version": "3.10.12"
  }
 },
 "nbformat": 4,
 "nbformat_minor": 2
}
